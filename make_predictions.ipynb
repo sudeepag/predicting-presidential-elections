{
 "cells": [
  {
   "cell_type": "code",
   "execution_count": 69,
   "metadata": {
    "collapsed": true
   },
   "outputs": [],
   "source": [
    "# Load saved model\n",
    "import pickle\n",
    "\n",
    "with open('model.pickle', 'rb') as handle:\n",
    "    model = pickle.load(handle)"
   ]
  },
  {
   "cell_type": "code",
   "execution_count": 70,
   "metadata": {
    "collapsed": false
   },
   "outputs": [],
   "source": [
    "# Read test file\n",
    "import pandas as pd\n",
    "\n",
    "test_df = pd.read_csv('data/test_potus_by_county.csv')"
   ]
  },
  {
   "cell_type": "code",
   "execution_count": 71,
   "metadata": {
    "collapsed": false
   },
   "outputs": [],
   "source": [
    "# Alter features to remain consistency in prediction, and create matrix\n",
    "\n",
    "# Population growth is a multiplier on total population\n",
    "test_df['Population growth'] = test_df['Population growth'] * test_df['Total population']\n",
    "\n",
    "# Percentage of people with bachelors degree or higher can be quantified\n",
    "test_df['% BachelorsDeg or higher'] = test_df['Total population'] * test_df['% BachelorsDeg or higher']\n",
    "\n",
    "# Unemployment rate can be quanitified to number unemployed\n",
    "test_df['Unemployment rate'] = test_df['Unemployment rate'] * test_df['Total population']\n",
    "\n",
    "# Household growth is a multiplier on the number of households\n",
    "test_df['House hold growth'] = test_df['House hold growth'] * test_df['Total households']\n",
    "\n",
    "# Per capita income growth is a multiplier on per capita income\n",
    "test_df['Per capita income growth'] = test_df['Per capita income growth'] * test_df['Per capita income']\n",
    "\n",
    "X = test_df.as_matrix()"
   ]
  },
  {
   "cell_type": "code",
   "execution_count": 72,
   "metadata": {
    "collapsed": false
   },
   "outputs": [
    {
     "name": "stdout",
     "output_type": "stream",
     "text": [
      "Time taken for prediction: 1.649209s\n"
     ]
    },
    {
     "name": "stderr",
     "output_type": "stream",
     "text": [
      "[Parallel(n_jobs=1)]: Done 1000 out of 1000 | elapsed:    1.6s finished\n"
     ]
    }
   ],
   "source": [
    "# Perform the prediction\n",
    "import time\n",
    "\n",
    "start = time.time()\n",
    "y_pred = model.predict(X)\n",
    "print('Time taken for prediction: %fs' % (time.time() - start))"
   ]
  },
  {
   "cell_type": "code",
   "execution_count": 73,
   "metadata": {
    "collapsed": false
   },
   "outputs": [],
   "source": [
    "# Save to predictions.csv\n",
    "pred_df = pd.DataFrame(y_pred, columns=['Winner'])\n",
    "pred_df.to_csv('predictions.csv', index=False)"
   ]
  },
  {
   "cell_type": "code",
   "execution_count": 74,
   "metadata": {
    "collapsed": false
   },
   "outputs": [
    {
     "name": "stdout",
     "output_type": "stream",
     "text": [
      "Formatting looks good, hope your model performs well!\n"
     ]
    }
   ],
   "source": [
    "# Run validations\n",
    "from validate import run_basic_validations\n",
    "\n",
    "run_basic_validations('predictions.csv')"
   ]
  }
 ],
 "metadata": {
  "kernelspec": {
   "display_name": "Python 3",
   "language": "python",
   "name": "python3"
  },
  "language_info": {
   "codemirror_mode": {
    "name": "ipython",
    "version": 3
   },
   "file_extension": ".py",
   "mimetype": "text/x-python",
   "name": "python",
   "nbconvert_exporter": "python",
   "pygments_lexer": "ipython3",
   "version": "3.5.2+"
  }
 },
 "nbformat": 4,
 "nbformat_minor": 1
}
